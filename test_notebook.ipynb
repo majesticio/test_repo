{
  "nbformat": 4,
  "nbformat_minor": 0,
  "metadata": {
    "colab": {
      "name": "test-notebook.ipynb",
      "provenance": [],
      "authorship_tag": "ABX9TyP33Eaxx4CFU/QLo2F7SI95",
      "include_colab_link": true
    },
    "kernelspec": {
      "name": "python3",
      "display_name": "Python 3"
    }
  },
  "cells": [
    {
      "cell_type": "markdown",
      "metadata": {
        "id": "view-in-github",
        "colab_type": "text"
      },
      "source": [
        "<a href=\"https://colab.research.google.com/github/majesticio/test_repo/blob/master/test_notebook.ipynb\" target=\"_parent\"><img src=\"https://colab.research.google.com/assets/colab-badge.svg\" alt=\"Open In Colab\"/></a>"
      ]
    },
    {
      "cell_type": "code",
      "metadata": {
        "id": "uv08pS9ImSmE",
        "colab_type": "code",
        "colab": {}
      },
      "source": [
        ""
      ],
      "execution_count": null,
      "outputs": []
    },
    {
      "cell_type": "markdown",
      "metadata": {
        "id": "Wbngp34Sm8zq",
        "colab_type": "text"
      },
      "source": [
        "How to add google notebooks to github"
      ]
    },
    {
      "cell_type": "markdown",
      "metadata": {
        "id": "kr2Oa0zCoNfg",
        "colab_type": "text"
      },
      "source": [
        "This is an addition to my new notebook."
      ]
    }
  ]
}